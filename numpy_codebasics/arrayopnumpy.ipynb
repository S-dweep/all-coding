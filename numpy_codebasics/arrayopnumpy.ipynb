{
 "cells": [
  {
   "cell_type": "code",
   "execution_count": 14,
   "metadata": {},
   "outputs": [
    {
     "name": "stdout",
     "output_type": "stream",
     "text": [
      "1\n",
      "2\n",
      "4\n",
      "int32\n",
      "float64\n",
      "8\n",
      "[[1. 2.]\n",
      " [3. 4.]\n",
      " [5. 6.]]\n",
      "6\n",
      "(3, 2)\n",
      "[[1.+0.j 2.+0.j]\n",
      " [3.+0.j 4.+0.j]\n",
      " [5.+0.j 6.+0.j]]\n"
     ]
    }
   ],
   "source": [
    "import numpy as np\n",
    "arr1=np.array([5,6,7])\n",
    "arr2=np.array([[1,2],[3,4],[5,6]])\n",
    "print(arr1.ndim)\n",
    "print(arr2.ndim)\n",
    "print(arr2.itemsize)\n",
    "print(arr2.dtype)\n",
    "arr2=np.array([[1,2],[3,4],[5,6]], dtype=np.float64)\n",
    "print(arr2.dtype)\n",
    "print(arr2.itemsize)\n",
    "print(arr2)\n",
    "print(arr2.size)\n",
    "print(arr2.shape)\n",
    "arr2=np.array([[1,2],[3,4],[5,6]], dtype=complex)\n",
    "print(arr2)"
   ]
  },
  {
   "cell_type": "code",
   "execution_count": 20,
   "metadata": {},
   "outputs": [
    {
     "name": "stdout",
     "output_type": "stream",
     "text": [
      "[[0. 0.]\n",
      " [0. 0.]\n",
      " [0. 0.]]\n",
      "[[1. 1.]\n",
      " [1. 1.]\n",
      " [1. 1.]]\n",
      "[1 2 3 4 5]\n",
      "[1 3 5]\n",
      "[1.         1.55555556 2.11111111 2.66666667 3.22222222 3.77777778\n",
      " 4.33333333 4.88888889 5.44444444 6.        ]\n",
      "[1.   2.25 3.5  4.75 6.  ]\n"
     ]
    }
   ],
   "source": [
    "print(np.zeros((3,2)))\n",
    "print(np.ones((3,2)))\n",
    "print(np.arange(1,6))\n",
    "print(np.arange(1,6,2))\n",
    "print(np.linspace(1,6,10))\n",
    "print(np.linspace(1,6,5))"
   ]
  },
  {
   "cell_type": "code",
   "execution_count": 30,
   "metadata": {},
   "outputs": [
    {
     "name": "stdout",
     "output_type": "stream",
     "text": [
      "(3, 2)\n",
      "[[1 2 3]\n",
      " [4 5 6]]\n",
      "[[1]\n",
      " [2]\n",
      " [3]\n",
      " [4]\n",
      " [5]\n",
      " [6]]\n",
      "[1 2 3 4 5 6]\n",
      "[[1 2]\n",
      " [3 4]\n",
      " [5 6]]\n",
      "1\n",
      "6\n",
      "21\n",
      "[ 9 12]\n",
      "[ 3  7 11]\n",
      "[[1.         1.41421356]\n",
      " [1.73205081 2.        ]\n",
      " [2.23606798 2.44948974]]\n",
      "1.707825127659933\n"
     ]
    }
   ],
   "source": [
    "arr=np.array([[1,2],[3,4],[5,6]])\n",
    "print(arr.shape)\n",
    "print(arr.reshape(2,3))\n",
    "print(arr.reshape(6,1))\n",
    "print(arr.ravel())\n",
    "print(arr)\n",
    "print(arr.min())\n",
    "print(arr.max())\n",
    "print(arr.sum())\n",
    "print(arr.sum(axis=0))\n",
    "print(arr.sum(axis=1))\n",
    "print(np.sqrt(arr))\n",
    "print(np.std(arr)) # standard deviation"
   ]
  },
  {
   "cell_type": "code",
   "execution_count": 34,
   "metadata": {},
   "outputs": [
    {
     "name": "stdout",
     "output_type": "stream",
     "text": [
      "[[ 6  8]\n",
      " [10 12]]\n",
      "[[ 5 12]\n",
      " [21 32]]\n",
      "[[0.2        0.33333333]\n",
      " [0.42857143 0.5       ]]\n",
      "[[19 22]\n",
      " [43 50]]\n"
     ]
    }
   ],
   "source": [
    "arr1=np.array([[1,2],[3,4]])\n",
    "arr2=np.array([[5,6],[7,8]])\n",
    "print(arr1+arr2)\n",
    "print(arr1*arr2)\n",
    "print(arr1/arr2)\n",
    "print(arr1.dot(arr2)) # matrix product"
   ]
  }
 ],
 "metadata": {
  "kernelspec": {
   "display_name": "Python 3",
   "language": "python",
   "name": "python3"
  },
  "language_info": {
   "codemirror_mode": {
    "name": "ipython",
    "version": 3
   },
   "file_extension": ".py",
   "mimetype": "text/x-python",
   "name": "python",
   "nbconvert_exporter": "python",
   "pygments_lexer": "ipython3",
   "version": "3.12.6"
  }
 },
 "nbformat": 4,
 "nbformat_minor": 2
}
